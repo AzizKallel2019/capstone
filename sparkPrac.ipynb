{
 "cells": [
  {
   "cell_type": "code",
   "execution_count": 1,
   "metadata": {},
   "outputs": [],
   "source": [
    "import pyspark\n",
    "import pandas as pd\n",
    "from datetime import datetime\n",
    "from pyspark.sql import SparkSession\n",
    "from pyspark.sql.window import Window\n",
    "from pyspark.sql.types import StructType, StructField, StringType, IntegerType\n",
    "from pyspark.sql import functions as F\n",
    "from datetime import datetime\n",
    "import re"
   ]
  },
  {
   "cell_type": "code",
   "execution_count": 2,
   "metadata": {},
   "outputs": [],
   "source": [
    "\n",
    "\n",
    "schema = StructType([\n",
    "    StructField(\"PredictedDeparture\", StringType(), False),\n",
    "    StructField(\"Flight_ID\", StringType(), False),\n",
    "    StructField(\"Destination\", StringType(), False),\n",
    "    StructField(\"Airline\", StringType(), False),\n",
    "    StructField(\"Aircraft_ID\", StringType(), False),\n",
    "    StructField(\"TimeOfDeparture\", StringType(), False),\n",
    "    StructField(\"Date\", StringType(), False)\n",
    "    \n",
    "    \n",
    "])"
   ]
  },
  {
   "cell_type": "code",
   "execution_count": 3,
   "metadata": {},
   "outputs": [],
   "source": [
    "spark = SparkSession.builder.appName('bovo').getOrCreate()"
   ]
  },
  {
   "cell_type": "code",
   "execution_count": 4,
   "metadata": {},
   "outputs": [
    {
     "data": {
      "text/html": [
       "\n",
       "            <div>\n",
       "                <p><b>SparkSession - in-memory</b></p>\n",
       "                \n",
       "        <div>\n",
       "            <p><b>SparkContext</b></p>\n",
       "\n",
       "            <p><a href=\"http://Wolf.mshome.net:4040\">Spark UI</a></p>\n",
       "\n",
       "            <dl>\n",
       "              <dt>Version</dt>\n",
       "                <dd><code>v3.5.1</code></dd>\n",
       "              <dt>Master</dt>\n",
       "                <dd><code>local[*]</code></dd>\n",
       "              <dt>AppName</dt>\n",
       "                <dd><code>bovo</code></dd>\n",
       "            </dl>\n",
       "        </div>\n",
       "        \n",
       "            </div>\n",
       "        "
      ],
      "text/plain": [
       "<pyspark.sql.session.SparkSession at 0x18475c20a30>"
      ]
     },
     "execution_count": 4,
     "metadata": {},
     "output_type": "execute_result"
    }
   ],
   "source": [
    "spark"
   ]
  },
  {
   "cell_type": "code",
   "execution_count": 5,
   "metadata": {},
   "outputs": [],
   "source": [
    "df_pyspark=spark.read.option('header','false').csv('output.csv',inferSchema=True, schema=schema)"
   ]
  },
  {
   "cell_type": "code",
   "execution_count": 6,
   "metadata": {},
   "outputs": [
    {
     "name": "stdout",
     "output_type": "stream",
     "text": [
      "root\n",
      " |-- PredictedDeparture: string (nullable = true)\n",
      " |-- Flight_ID: string (nullable = true)\n",
      " |-- Destination: string (nullable = true)\n",
      " |-- Airline: string (nullable = true)\n",
      " |-- Aircraft_ID: string (nullable = true)\n",
      " |-- TimeOfDeparture: string (nullable = true)\n",
      " |-- Date: string (nullable = true)\n",
      "\n"
     ]
    }
   ],
   "source": [
    "df_pyspark.printSchema()"
   ]
  },
  {
   "cell_type": "code",
   "execution_count": 7,
   "metadata": {},
   "outputs": [
    {
     "name": "stdout",
     "output_type": "stream",
     "text": [
      "+------------------+---------+------------------+--------------------+-------------+--------------------+--------------------+\n",
      "|PredictedDeparture|Flight_ID|       Destination|             Airline|  Aircraft_ID|     TimeOfDeparture|                Date|\n",
      "+------------------+---------+------------------+--------------------+-------------+--------------------+--------------------+\n",
      "|             06:54|   DL4238|Minneapolis (MSP)-|  Delta Connection -|CRJ7 (N712EV)|      Departed 10:56| Monday, Mar 04 2024|\n",
      "|             14:41|   DL4262|Minneapolis (MSP)-|  Delta Connection -|CRJ7 (N625CA)|      Departed 14:49| Monday, Mar 04 2024|\n",
      "|             16:00|   MWT100|Sioux Falls (FSD)-|Midwest Aviation ...|BE9L (N100QT)|      Departed 15:58| Monday, Mar 04 2024|\n",
      "|             19:30|  AIP1573|Sioux Falls (FSD)-|Alpine Air Express -|B190 (N114AX)|      Departed 19:08| Monday, Mar 04 2024|\n",
      "|             19:32|  IRO7551|Sioux Falls (FSD)-|      FedEx Feeder -|C208 (N752FE)|      Departed 19:02| Monday, Mar 04 2024|\n",
      "|             06:54|   DL4238|Minneapolis (MSP)-|  SkyWest Airlines -|CRJ7 (N603SK)|      Departed 07:22|Tuesday, Mar 05 2024|\n",
      "|             14:41|   DL4262|Minneapolis (MSP)-|  SkyWest Airlines -|CRJ7 (N741EV)|Estimated dep.  1...|Tuesday, Mar 05 2024|\n",
      "|             19:32|  IRO7551|Sioux Falls (FSD)-|           CSA Air -|      C208 ()|Estimated dep.  1...|Tuesday, Mar 05 2024|\n",
      "|             06:54|   DL4238|Minneapolis (MSP)-|  Delta Connection -|CRJ7 (N625CA)|Estimated dep.  0...|Wednesday, Mar 06...|\n",
      "|             14:41|   DL4262|Minneapolis (MSP)-|  Delta Connection -|CRJ7 (N625CA)|           Scheduled|Wednesday, Mar 06...|\n",
      "|             22:30|   AA9868|     Dallas (DFW)-|    American Eagle -|E170 (N791DK)|      Departed 23:41| Sunday, Mar 03 2024|\n",
      "|             05:11|   AA3706|     Dallas (DFW)-|    American Eagle -|E75L (N237NN)|      Departed 05:11| Monday, Mar 04 2024|\n",
      "|             06:30|   AA3647|     Dallas (DFW)-|    American Eagle -|E75L (N235NN)|      Departed 06:35| Monday, Mar 04 2024|\n",
      "|             10:29|   AA3407|     Dallas (DFW)-|    American Eagle -|E170 (N646RW)|      Departed 10:41| Monday, Mar 04 2024|\n",
      "|             11:00|   EJA943|    Midland (MDD)-|           NetJets -|         () -|Estimated dep.  1...| Monday, Mar 04 2024|\n",
      "|             14:46|   AA3408|     Dallas (DFW)-|    American Eagle -|E75L (N230NN)|      Departed 14:36| Monday, Mar 04 2024|\n",
      "|             18:18|   AA3405|     Dallas (DFW)-|    American Eagle -|E75L (N444YX)|      Departed 18:11| Monday, Mar 04 2024|\n",
      "|             19:13|  BVN7793|    Lubbock (LBB)-|      FedEx Feeder -|C208 (N970FE)|      Departed 18:46| Monday, Mar 04 2024|\n",
      "|             19:15|   MRA666|     Dallas (DFW)-|        Martinaire -|C208 (N1119V)|      Departed 19:31| Monday, Mar 04 2024|\n",
      "|             19:43|  BVN7844|    Lubbock (LBB)-|      FedEx Feeder -|C208 (N804FE)|      Departed 19:13| Monday, Mar 04 2024|\n",
      "+------------------+---------+------------------+--------------------+-------------+--------------------+--------------------+\n",
      "only showing top 20 rows\n",
      "\n"
     ]
    }
   ],
   "source": [
    "type(df_pyspark)\n",
    "df_pyspark.show()"
   ]
  },
  {
   "cell_type": "code",
   "execution_count": 8,
   "metadata": {},
   "outputs": [],
   "source": [
    "\n",
    "df_pyspark=df_pyspark.na.drop(how=\"any\", thresh=2)"
   ]
  },
  {
   "cell_type": "code",
   "execution_count": 9,
   "metadata": {},
   "outputs": [
    {
     "name": "stdout",
     "output_type": "stream",
     "text": [
      "+------------------+---------+------------------+--------------------+-------------+--------------------+--------------------+\n",
      "|PredictedDeparture|Flight_ID|       Destination|             Airline|  Aircraft_ID|     TimeOfDeparture|                Date|\n",
      "+------------------+---------+------------------+--------------------+-------------+--------------------+--------------------+\n",
      "|             06:54|   DL4238|Minneapolis (MSP)-|  Delta Connection -|CRJ7 (N712EV)|      Departed 10:56| Monday, Mar 04 2024|\n",
      "|             14:41|   DL4262|Minneapolis (MSP)-|  Delta Connection -|CRJ7 (N625CA)|      Departed 14:49| Monday, Mar 04 2024|\n",
      "|             16:00|   MWT100|Sioux Falls (FSD)-|Midwest Aviation ...|BE9L (N100QT)|      Departed 15:58| Monday, Mar 04 2024|\n",
      "|             19:30|  AIP1573|Sioux Falls (FSD)-|Alpine Air Express -|B190 (N114AX)|      Departed 19:08| Monday, Mar 04 2024|\n",
      "|             19:32|  IRO7551|Sioux Falls (FSD)-|      FedEx Feeder -|C208 (N752FE)|      Departed 19:02| Monday, Mar 04 2024|\n",
      "|             06:54|   DL4238|Minneapolis (MSP)-|  SkyWest Airlines -|CRJ7 (N603SK)|      Departed 07:22|Tuesday, Mar 05 2024|\n",
      "|             14:41|   DL4262|Minneapolis (MSP)-|  SkyWest Airlines -|CRJ7 (N741EV)|Estimated dep.  1...|Tuesday, Mar 05 2024|\n",
      "|             19:32|  IRO7551|Sioux Falls (FSD)-|           CSA Air -|      C208 ()|Estimated dep.  1...|Tuesday, Mar 05 2024|\n",
      "|             06:54|   DL4238|Minneapolis (MSP)-|  Delta Connection -|CRJ7 (N625CA)|Estimated dep.  0...|Wednesday, Mar 06...|\n",
      "|             14:41|   DL4262|Minneapolis (MSP)-|  Delta Connection -|CRJ7 (N625CA)|           Scheduled|Wednesday, Mar 06...|\n",
      "|             22:30|   AA9868|     Dallas (DFW)-|    American Eagle -|E170 (N791DK)|      Departed 23:41| Sunday, Mar 03 2024|\n",
      "|             05:11|   AA3706|     Dallas (DFW)-|    American Eagle -|E75L (N237NN)|      Departed 05:11| Monday, Mar 04 2024|\n",
      "|             06:30|   AA3647|     Dallas (DFW)-|    American Eagle -|E75L (N235NN)|      Departed 06:35| Monday, Mar 04 2024|\n",
      "|             10:29|   AA3407|     Dallas (DFW)-|    American Eagle -|E170 (N646RW)|      Departed 10:41| Monday, Mar 04 2024|\n",
      "|             11:00|   EJA943|    Midland (MDD)-|           NetJets -|         () -|Estimated dep.  1...| Monday, Mar 04 2024|\n",
      "|             14:46|   AA3408|     Dallas (DFW)-|    American Eagle -|E75L (N230NN)|      Departed 14:36| Monday, Mar 04 2024|\n",
      "|             18:18|   AA3405|     Dallas (DFW)-|    American Eagle -|E75L (N444YX)|      Departed 18:11| Monday, Mar 04 2024|\n",
      "|             19:13|  BVN7793|    Lubbock (LBB)-|      FedEx Feeder -|C208 (N970FE)|      Departed 18:46| Monday, Mar 04 2024|\n",
      "|             19:15|   MRA666|     Dallas (DFW)-|        Martinaire -|C208 (N1119V)|      Departed 19:31| Monday, Mar 04 2024|\n",
      "|             19:43|  BVN7844|    Lubbock (LBB)-|      FedEx Feeder -|C208 (N804FE)|      Departed 19:13| Monday, Mar 04 2024|\n",
      "|             06:30|   AA3647|     Dallas (DFW)-|    American Eagle -|E75L (N241NN)|      Departed 06:35|Tuesday, Mar 05 2024|\n",
      "|             07:20|   MRA662|     Dallas (ADS)-|        Martinaire -|C208 (N1041L)|             Unknown|Tuesday, Mar 05 2024|\n",
      "|             10:29|   AA3407|     Dallas (DFW)-|    American Eagle -|E170 (N782SM)|Estimated dep.  1...|Tuesday, Mar 05 2024|\n",
      "|             12:11|   WQ3625| Alexandria (AEX)-|     iAero Airways -|      B734 ()|Estimated dep.  1...|Tuesday, Mar 05 2024|\n",
      "|             14:46|   AA3408|     Dallas (DFW)-|    American Eagle -|E75L (N291NN)|Estimated dep.  1...|Tuesday, Mar 05 2024|\n",
      "|             18:18|   AA3405|     Dallas (DFW)-|    American Eagle -|E170 (N765ST)|Estimated dep.  1...|Tuesday, Mar 05 2024|\n",
      "|             19:13|  BVN7793|    Lubbock (LBB)-|Baron Aviation Se...|       C28 ()|Estimated dep.  1...|Tuesday, Mar 05 2024|\n",
      "|             19:43|  BVN7844|    Lubbock (LBB)-|Baron Aviation Se...|       C28 ()|Estimated dep.  1...|Tuesday, Mar 05 2024|\n",
      "|             05:11|   AA3706|     Dallas (DFW)-|    American Eagle -|E170 (N766JM)|Estimated dep.  0...|Wednesday, Mar 06...|\n",
      "|             06:30|   AA3647|     Dallas (DFW)-|    American Eagle -|E75L (N291NN)|Estimated dep.  0...|Wednesday, Mar 06...|\n",
      "|             08:00|   AA9977|  Nashville (BNA)-|    American Eagle -|E145 (N923AE)|Estimated dep.  0...|Wednesday, Mar 06...|\n",
      "|             10:29|   AA3407|     Dallas (DFW)-|    American Eagle -|E170 (N782SM)|Estimated dep.  1...|Wednesday, Mar 06...|\n",
      "|             14:46|   AA3408|     Dallas (DFW)-|    American Eagle -|E75L (N280NN)|Estimated dep.  1...|Wednesday, Mar 06...|\n",
      "|             18:18|   AA3405|     Dallas (DFW)-|    American Eagle -|E170 (N779RN)|Estimated dep.  1...|Wednesday, Mar 06...|\n",
      "|             06:54|   DL4238|Minneapolis (MSP)-|  Delta Connection -|CRJ7 (N712EV)|                NULL|      Departed 10:56|\n",
      "|             14:41|   DL4262|Minneapolis (MSP)-|  Delta Connection -|CRJ7 (N625CA)|                NULL|      Departed 14:49|\n",
      "|             15:45|     NULL|    Yankton (YKN)-|                   -|C441 (N441CT)|                NULL|      Departed 15:53|\n",
      "|             16:00|   MWT100|Sioux Falls (FSD)-|Midwest Aviation ...|BE9L (N100QT)|                NULL|      Departed 15:58|\n",
      "|             19:30|  AIP1573|Sioux Falls (FSD)-|Alpine Air Express -|B190 (N114AX)|                NULL|      Departed 19:08|\n",
      "|             19:32|  IRO7551|Sioux Falls (FSD)-|      FedEx Feeder -|C208 (N752FE)|                NULL|      Departed 19:02|\n",
      "|             06:54|   DL4238|Minneapolis (MSP)-|  SkyWest Airlines -|CRJ7 (N603SK)|                NULL|      Departed 07:22|\n",
      "|             08:00|     NULL|      Minot (MOT)-|                   -|C425 (N425XP)|                NULL|      Departed 08:18|\n",
      "|             09:00|     NULL|Sioux Falls (FSD)-|                   -|C25M (N898GT)|                NULL|      Departed 09:15|\n",
      "|             09:00|     NULL| Scottsdale (SCF)-|                   -| CL30 (N91PR)|                NULL|      Departed 09:03|\n",
      "|             10:00|     NULL|    Britton (TTO)-|                   -| B350 (N385H)|                NULL|Estimated dep.  1...|\n",
      "|             14:41|   DL4262|Minneapolis (MSP)-|  SkyWest Airlines -|CRJ7 (N741EV)|                NULL|Estimated dep.  1...|\n",
      "|             19:32|  IRO7551|Sioux Falls (FSD)-|           CSA Air -|      C208 ()|                NULL|Estimated dep.  1...|\n",
      "|             06:54|   DL4238|Minneapolis (MSP)-|  Delta Connection -|CRJ7 (N625CA)|                NULL|Estimated dep.  0...|\n",
      "|             14:41|   DL4262|Minneapolis (MSP)-|  Delta Connection -|CRJ7 (N625CA)|                NULL|           Scheduled|\n",
      "|             22:30|   AA9868|     Dallas (DFW)-|    American Eagle -|E170 (N791DK)|                NULL|      Departed 23:41|\n",
      "|             05:11|   AA3706|     Dallas (DFW)-|    American Eagle -|E75L (N237NN)|                NULL|      Departed 05:11|\n",
      "|             06:30|   AA3647|     Dallas (DFW)-|    American Eagle -|E75L (N235NN)|                NULL|      Departed 06:35|\n",
      "|             08:00|     NULL|    Midland (MAF)-|                   -|C525 (N909DP)|                NULL|      Departed 07:52|\n",
      "|             08:30|     NULL|    Midland (MAF)-|                   -|BE20 (N806KM)|                NULL|      Departed 08:44|\n",
      "|             10:29|   AA3407|     Dallas (DFW)-|    American Eagle -|E170 (N646RW)|                NULL|      Departed 10:41|\n",
      "|             11:00|   EJA943|    Midland (MDD)-|           NetJets -|         () -|                NULL|Estimated dep.  1...|\n",
      "|             14:46|   AA3408|     Dallas (DFW)-|    American Eagle -|E75L (N230NN)|                NULL|      Departed 14:36|\n",
      "|             16:00|     NULL| Fort Worth (FTW)-|                   -|C525 (N909DP)|                NULL|      Departed 16:22|\n",
      "|             17:30|     NULL| Fort Worth (FTW)-|                   -|C560 (N917TL)|                NULL|      Departed 18:15|\n",
      "|             17:55|     NULL|     Denton (QQD)-|                   -|C172 (N62296)|                NULL|      Departed 17:08|\n",
      "|             18:18|   AA3405|     Dallas (DFW)-|    American Eagle -|E75L (N444YX)|                NULL|      Departed 18:11|\n",
      "|             19:13|  BVN7793|    Lubbock (LBB)-|      FedEx Feeder -|C208 (N970FE)|                NULL|      Departed 18:46|\n",
      "|             19:15|   MRA666|     Dallas (DFW)-|        Martinaire -|C208 (N1119V)|                NULL|      Departed 19:31|\n",
      "|             19:43|  BVN7844|    Lubbock (LBB)-|      FedEx Feeder -|C208 (N804FE)|                NULL|      Departed 19:13|\n",
      "|             06:30|   AA3647|     Dallas (DFW)-|    American Eagle -|E75L (N241NN)|                NULL|      Departed 06:35|\n",
      "|             07:20|   MRA662|     Dallas (ADS)-|        Martinaire -|C208 (N1041L)|                NULL|             Unknown|\n",
      "|             08:15|     NULL|    Lubbock (LBB)-|      FedEx Feeder -|C208 (N774FE)|                NULL|      Departed 08:19|\n",
      "|             08:30|     NULL|   Savannah (SAV)-|                   -|C25C (N590MB)|                NULL|      Departed 08:31|\n",
      "|             10:29|   AA3407|     Dallas (DFW)-|    American Eagle -|E170 (N782SM)|                NULL|Estimated dep.  1...|\n",
      "|             12:11|   WQ3625| Alexandria (AEX)-|     iAero Airways -|      B734 ()|                NULL|Estimated dep.  1...|\n",
      "|             14:46|   AA3408|     Dallas (DFW)-|    American Eagle -|E75L (N291NN)|                NULL|Estimated dep.  1...|\n",
      "|             18:18|   AA3405|     Dallas (DFW)-|    American Eagle -|E170 (N765ST)|                NULL|Estimated dep.  1...|\n",
      "|             19:13|  BVN7793|    Lubbock (LBB)-|Baron Aviation Se...|       C28 ()|                NULL|Estimated dep.  1...|\n",
      "|             19:43|  BVN7844|    Lubbock (LBB)-|Baron Aviation Se...|       C28 ()|                NULL|Estimated dep.  1...|\n",
      "|             05:11|   AA3706|     Dallas (DFW)-|    American Eagle -|E170 (N766JM)|                NULL|Estimated dep.  0...|\n",
      "|             06:30|   AA3647|     Dallas (DFW)-|    American Eagle -|E75L (N291NN)|                NULL|Estimated dep.  0...|\n",
      "|             08:00|   AA9977|  Nashville (BNA)-|    American Eagle -|E145 (N923AE)|                NULL|Estimated dep.  0...|\n",
      "|             10:29|   AA3407|     Dallas (DFW)-|    American Eagle -|E170 (N782SM)|                NULL|Estimated dep.  1...|\n",
      "|             14:46|   AA3408|     Dallas (DFW)-|    American Eagle -|E75L (N280NN)|                NULL|Estimated dep.  1...|\n",
      "|             18:18|   AA3405|     Dallas (DFW)-|    American Eagle -|E170 (N779RN)|                NULL|Estimated dep.  1...|\n",
      "|             06:54|   DL4238|Minneapolis (MSP)-|  Delta Connection -|CRJ7 (N712EV)|                NULL|      Departed 10:56|\n",
      "|             14:41|   DL4262|Minneapolis (MSP)-|  Delta Connection -|CRJ7 (N625CA)|                NULL|      Departed 14:49|\n",
      "|             15:45|     NULL|    Yankton (YKN)-|                   -|C441 (N441CT)|                NULL|      Departed 15:53|\n",
      "|             16:00|   MWT100|Sioux Falls (FSD)-|Midwest Aviation ...|BE9L (N100QT)|                NULL|      Departed 15:58|\n",
      "|             19:30|  AIP1573|Sioux Falls (FSD)-|Alpine Air Express -|B190 (N114AX)|                NULL|      Departed 19:08|\n",
      "|             19:32|  IRO7551|Sioux Falls (FSD)-|      FedEx Feeder -|C208 (N752FE)|                NULL|      Departed 19:02|\n",
      "|             06:54|   DL4238|Minneapolis (MSP)-|  SkyWest Airlines -|CRJ7 (N603SK)|                NULL|      Departed 07:22|\n",
      "|             08:00|     NULL|      Minot (MOT)-|                   -|C425 (N425XP)|                NULL|      Departed 08:18|\n",
      "|             09:00|     NULL|Sioux Falls (FSD)-|                   -|C25M (N898GT)|                NULL|      Departed 09:15|\n",
      "|             09:00|     NULL| Scottsdale (SCF)-|                   -| CL30 (N91PR)|                NULL|      Departed 09:03|\n",
      "|             10:00|     NULL|    Britton (TTO)-|                   -| B350 (N385H)|                NULL|      Departed 10:00|\n",
      "|             14:41|   DL4262|Minneapolis (MSP)-|  SkyWest Airlines -|CRJ7 (N741EV)|                NULL|Estimated dep.  1...|\n",
      "|             19:32|  IRO7551|Sioux Falls (FSD)-|           CSA Air -|      C208 ()|                NULL|Estimated dep.  1...|\n",
      "|             06:54|   DL4238|Minneapolis (MSP)-|  Delta Connection -|CRJ7 (N625CA)|                NULL|Estimated dep.  0...|\n",
      "|             14:41|   DL4262|Minneapolis (MSP)-|  Delta Connection -|CRJ7 (N625CA)|                NULL|           Scheduled|\n",
      "|             05:11|   AA3706|     Dallas (DFW)-|    American Eagle -|E75L (N237NN)|                NULL|      Departed 05:11|\n",
      "|             06:30|   AA3647|     Dallas (DFW)-|    American Eagle -|E75L (N235NN)|                NULL|      Departed 06:35|\n",
      "|             08:00|     NULL|    Midland (MAF)-|                   -|C525 (N909DP)|                NULL|      Departed 07:52|\n",
      "|             08:30|     NULL|    Midland (MAF)-|                   -|BE20 (N806KM)|                NULL|      Departed 08:44|\n",
      "|             10:29|   AA3407|     Dallas (DFW)-|    American Eagle -|E170 (N646RW)|                NULL|      Departed 10:41|\n",
      "+------------------+---------+------------------+--------------------+-------------+--------------------+--------------------+\n",
      "only showing top 100 rows\n",
      "\n"
     ]
    }
   ],
   "source": [
    "df_pyspark.show(100)"
   ]
  },
  {
   "cell_type": "code",
   "execution_count": null,
   "metadata": {},
   "outputs": [],
   "source": []
  },
  {
   "cell_type": "code",
   "execution_count": null,
   "metadata": {},
   "outputs": [],
   "source": []
  },
  {
   "cell_type": "code",
   "execution_count": null,
   "metadata": {},
   "outputs": [],
   "source": []
  },
  {
   "cell_type": "code",
   "execution_count": null,
   "metadata": {},
   "outputs": [],
   "source": []
  },
  {
   "cell_type": "code",
   "execution_count": null,
   "metadata": {},
   "outputs": [],
   "source": []
  },
  {
   "cell_type": "code",
   "execution_count": null,
   "metadata": {},
   "outputs": [],
   "source": []
  },
  {
   "cell_type": "code",
   "execution_count": null,
   "metadata": {},
   "outputs": [],
   "source": []
  }
 ],
 "metadata": {
  "kernelspec": {
   "display_name": "Python 3",
   "language": "python",
   "name": "python3"
  },
  "language_info": {
   "codemirror_mode": {
    "name": "ipython",
    "version": 3
   },
   "file_extension": ".py",
   "mimetype": "text/x-python",
   "name": "python",
   "nbconvert_exporter": "python",
   "pygments_lexer": "ipython3",
   "version": "3.8.0"
  }
 },
 "nbformat": 4,
 "nbformat_minor": 2
}
