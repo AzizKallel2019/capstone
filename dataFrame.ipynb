{
 "cells": [
  {
   "cell_type": "code",
   "execution_count": 1,
   "metadata": {},
   "outputs": [],
   "source": [
    "import pandas as pd\n",
    "from datetime import datetime\n",
    "import re\n",
    "\n",
    "# Read the CSV file into a DataFrame\n",
    "df = pd.read_csv(\"output.csv\")\n",
    "\n",
    "# Get the number of rows in the DataFrame\n",
    "num_rows = len(df)\n",
    "\n",
    "# Calculate the index to split the DataFrame into two halves\n",
    "split_index = num_rows // 2\n",
    "\n",
    "# Take only the second half of the DataFrame\n",
    "df = df.iloc[split_index-1:]\n",
    "df.drop(columns=['Unnamed: 5'], inplace=True)\n",
    "\n",
    "new_column_names = ['PredictedArrival', 'Flight Id','Destination','AirLine','Aircraft','Status']  # Specify your new column names\n",
    "df.columns = new_column_names\n",
    "df.reset_index(drop=True, inplace=True)\n",
    "\n"
   ]
  },
  {
   "cell_type": "code",
   "execution_count": 2,
   "metadata": {},
   "outputs": [
    {
     "name": "stdout",
     "output_type": "stream",
     "text": [
      "                      PredictedArrival Flight Id           Destination  \\\n",
      "0                                16:38    AA2941          Tampa (TPA)-   \n",
      "1                                16:40    AA2620    Montego Bay (MBJ)-   \n",
      "2                                16:40    UA1030       New York (EWR)-   \n",
      "3                                16:44    AA2293        Norfolk (ORF)-   \n",
      "4                                16:48     AA487  San Francisco (SFO)-   \n",
      "..                                 ...       ...                   ...   \n",
      "515                              11:12    AA1661      Cleveland (CLE)-   \n",
      "516                              11:12    NK1699        Orlando (MCO)-   \n",
      "517                              11:15    AA1834   Jacksonville (JAX)-   \n",
      "518                 Load later flights       NaN                   NaN   \n",
      "519  * All times are in local timezone       NaN                   NaN   \n",
      "\n",
      "                 AirLine       Aircraft        Status  \n",
      "0    American Airlines -  A321 (N903AA)  Landed 16:25  \n",
      "1    American Airlines -  A320 (N114UW)  Landed 16:28  \n",
      "2      United Airlines -  B737 (N13720)  Landed 16:08  \n",
      "3    American Airlines -  A320 (N655AW)  Landed 16:17  \n",
      "4    American Airlines -  A21N (N446AN)  Landed 16:06  \n",
      "..                   ...            ...           ...  \n",
      "515  American Airlines -  B738 (N869NN)     Scheduled  \n",
      "516    Spirit Airlines -  A321 (N673NK)     Scheduled  \n",
      "517  American Airlines -  A321 (N191UW)     Scheduled  \n",
      "518                  NaN            NaN           NaN  \n",
      "519                  NaN            NaN           NaN  \n",
      "\n",
      "[520 rows x 6 columns]\n"
     ]
    }
   ],
   "source": [
    "df[\"PredictedArrival\"] = df[\"PredictedArrival\"].astype(str)\n",
    "print(df)\n",
    "\n"
   ]
  },
  {
   "cell_type": "code",
   "execution_count": 3,
   "metadata": {},
   "outputs": [
    {
     "name": "stdout",
     "output_type": "stream",
     "text": [
      "                      PredictedArrival Flight Id           Destination  \\\n",
      "0                                16:38    AA2941          Tampa (TPA)-   \n",
      "1                                16:40    AA2620    Montego Bay (MBJ)-   \n",
      "2                                16:40    UA1030       New York (EWR)-   \n",
      "3                                16:44    AA2293        Norfolk (ORF)-   \n",
      "4                                16:48     AA487  San Francisco (SFO)-   \n",
      "..                                 ...       ...                   ...   \n",
      "515                              11:12    AA1661      Cleveland (CLE)-   \n",
      "516                              11:12    NK1699        Orlando (MCO)-   \n",
      "517                              11:15    AA1834   Jacksonville (JAX)-   \n",
      "518                 Load later flights       NaN                   NaN   \n",
      "519  * All times are in local timezone       NaN                   NaN   \n",
      "\n",
      "                 AirLine       Aircraft        Status  \n",
      "0    American Airlines -  A321 (N903AA)  Landed 16:25  \n",
      "1    American Airlines -  A320 (N114UW)  Landed 16:28  \n",
      "2      United Airlines -  B737 (N13720)  Landed 16:08  \n",
      "3    American Airlines -  A320 (N655AW)  Landed 16:17  \n",
      "4    American Airlines -  A21N (N446AN)  Landed 16:06  \n",
      "..                   ...            ...           ...  \n",
      "515  American Airlines -  B738 (N869NN)     Scheduled  \n",
      "516    Spirit Airlines -  A321 (N673NK)     Scheduled  \n",
      "517  American Airlines -  A321 (N191UW)     Scheduled  \n",
      "518                  NaN            NaN           NaN  \n",
      "519                  NaN            NaN           NaN  \n",
      "\n",
      "[520 rows x 6 columns]\n"
     ]
    }
   ],
   "source": [
    "\n",
    "# Define a regular expression pattern to match days\n",
    "day_pattern = r\"(\\b(?:Monday|Tuesday|Wednesday|Thursday|Friday|Saturday|Sunday)\\b)\"\n",
    "\n",
    "# Get the current year\n",
    "current_year = datetime.now().year\n",
    "\n",
    "# Filter rows that match the day format\n",
    "day_rows = df[df['PredictedArrival'].str.match(day_pattern, na=False)]\n",
    "\n",
    "# Iterate over the indices of rows with day format\n",
    "for idx in day_rows.index:\n",
    "    # Get the value in the 'Departure' column\n",
    "    value = df.at[idx, 'PredictedArrival']\n",
    "    \n",
    "    # Split the value using the comma and space as separators\n",
    "    day_month_year = value.split(', ')[-1].split()\n",
    "\n",
    "    # Extract day, month, and year\n",
    "    day = day_month_year[1]\n",
    "    month = datetime.strptime(day_month_year[0], '%b').strftime('%m')  # Convert month to numerical format\n",
    "\n",
    "    # Transform the value to the desired format\n",
    "    transformed_value = f\"{day}/{month}/{current_year}\"\n",
    "\n",
    "    # Update the value in the DataFrame\n",
    "    df.at[idx, 'PredictedArrival'] = transformed_value\n",
    "\n",
    "# Print the updated DataFrame\n",
    "print(df)"
   ]
  },
  {
   "cell_type": "code",
   "execution_count": 4,
   "metadata": {},
   "outputs": [
    {
     "name": "stdout",
     "output_type": "stream",
     "text": [
      "Indices of rows with the format dd/mm/yyyy: [275]\n"
     ]
    }
   ],
   "source": [
    "# Define a regular expression pattern to match the desired format\n",
    "date_pattern = r\"\\d{2}/\\d{2}/\\d{4}\"\n",
    "\n",
    "# Initialize a list to store the indices\n",
    "indices = []\n",
    "\n",
    "# Iterate over the DataFrame and check each value in the \"Departure\" column\n",
    "for idx, value in df['PredictedArrival'].items():\n",
    "    # Check if the value matches the desired format\n",
    "    if isinstance(value, str) and any(substring in value for substring in ['/']):\n",
    "        # If it matches, append the index to the list\n",
    "        indices.append(idx)\n",
    "\n",
    "# Print the indices\n",
    "print(\"Indices of rows with the format dd/mm/yyyy:\", indices)"
   ]
  },
  {
   "cell_type": "code",
   "execution_count": 7,
   "metadata": {},
   "outputs": [
    {
     "name": "stdout",
     "output_type": "stream",
     "text": [
      "Current index: 275\n",
      "End index: 520\n",
      "Value: 26/02/2024\n",
      "Rows count: 245\n"
     ]
    },
    {
     "ename": "ValueError",
     "evalue": "Length of values (245) does not match length of index (520)",
     "output_type": "error",
     "traceback": [
      "\u001b[1;31m---------------------------------------------------------------------------\u001b[0m",
      "\u001b[1;31mValueError\u001b[0m                                Traceback (most recent call last)",
      "Cell \u001b[1;32mIn[7], line 21\u001b[0m\n\u001b[0;32m     18\u001b[0m     new_column_values\u001b[38;5;241m.\u001b[39mextend([value] \u001b[38;5;241m*\u001b[39m rows_count)\n\u001b[0;32m     20\u001b[0m \u001b[38;5;66;03m# Add the new column to the DataFrame\u001b[39;00m\n\u001b[1;32m---> 21\u001b[0m \u001b[43mdf\u001b[49m\u001b[43m[\u001b[49m\u001b[38;5;124;43m'\u001b[39;49m\u001b[38;5;124;43mDate\u001b[39;49m\u001b[38;5;124;43m'\u001b[39;49m\u001b[43m]\u001b[49m \u001b[38;5;241m=\u001b[39m new_column_values\n\u001b[0;32m     23\u001b[0m \u001b[38;5;66;03m# Display the updated DataFrame\u001b[39;00m\n\u001b[0;32m     24\u001b[0m \u001b[38;5;28mprint\u001b[39m(df)\n",
      "File \u001b[1;32m~\\AppData\\Roaming\\Python\\Python38\\site-packages\\pandas\\core\\frame.py:3950\u001b[0m, in \u001b[0;36mDataFrame.__setitem__\u001b[1;34m(self, key, value)\u001b[0m\n\u001b[0;32m   3947\u001b[0m     \u001b[38;5;28mself\u001b[39m\u001b[38;5;241m.\u001b[39m_setitem_array([key], value)\n\u001b[0;32m   3948\u001b[0m \u001b[38;5;28;01melse\u001b[39;00m:\n\u001b[0;32m   3949\u001b[0m     \u001b[38;5;66;03m# set column\u001b[39;00m\n\u001b[1;32m-> 3950\u001b[0m     \u001b[38;5;28;43mself\u001b[39;49m\u001b[38;5;241;43m.\u001b[39;49m\u001b[43m_set_item\u001b[49m\u001b[43m(\u001b[49m\u001b[43mkey\u001b[49m\u001b[43m,\u001b[49m\u001b[43m \u001b[49m\u001b[43mvalue\u001b[49m\u001b[43m)\u001b[49m\n",
      "File \u001b[1;32m~\\AppData\\Roaming\\Python\\Python38\\site-packages\\pandas\\core\\frame.py:4143\u001b[0m, in \u001b[0;36mDataFrame._set_item\u001b[1;34m(self, key, value)\u001b[0m\n\u001b[0;32m   4133\u001b[0m \u001b[38;5;28;01mdef\u001b[39;00m \u001b[38;5;21m_set_item\u001b[39m(\u001b[38;5;28mself\u001b[39m, key, value) \u001b[38;5;241m-\u001b[39m\u001b[38;5;241m>\u001b[39m \u001b[38;5;28;01mNone\u001b[39;00m:\n\u001b[0;32m   4134\u001b[0m \u001b[38;5;250m    \u001b[39m\u001b[38;5;124;03m\"\"\"\u001b[39;00m\n\u001b[0;32m   4135\u001b[0m \u001b[38;5;124;03m    Add series to DataFrame in specified column.\u001b[39;00m\n\u001b[0;32m   4136\u001b[0m \n\u001b[1;32m   (...)\u001b[0m\n\u001b[0;32m   4141\u001b[0m \u001b[38;5;124;03m    ensure homogeneity.\u001b[39;00m\n\u001b[0;32m   4142\u001b[0m \u001b[38;5;124;03m    \"\"\"\u001b[39;00m\n\u001b[1;32m-> 4143\u001b[0m     value \u001b[38;5;241m=\u001b[39m \u001b[38;5;28;43mself\u001b[39;49m\u001b[38;5;241;43m.\u001b[39;49m\u001b[43m_sanitize_column\u001b[49m\u001b[43m(\u001b[49m\u001b[43mvalue\u001b[49m\u001b[43m)\u001b[49m\n\u001b[0;32m   4145\u001b[0m     \u001b[38;5;28;01mif\u001b[39;00m (\n\u001b[0;32m   4146\u001b[0m         key \u001b[38;5;129;01min\u001b[39;00m \u001b[38;5;28mself\u001b[39m\u001b[38;5;241m.\u001b[39mcolumns\n\u001b[0;32m   4147\u001b[0m         \u001b[38;5;129;01mand\u001b[39;00m value\u001b[38;5;241m.\u001b[39mndim \u001b[38;5;241m==\u001b[39m \u001b[38;5;241m1\u001b[39m\n\u001b[0;32m   4148\u001b[0m         \u001b[38;5;129;01mand\u001b[39;00m \u001b[38;5;129;01mnot\u001b[39;00m is_extension_array_dtype(value)\n\u001b[0;32m   4149\u001b[0m     ):\n\u001b[0;32m   4150\u001b[0m         \u001b[38;5;66;03m# broadcast across multiple columns if necessary\u001b[39;00m\n\u001b[0;32m   4151\u001b[0m         \u001b[38;5;28;01mif\u001b[39;00m \u001b[38;5;129;01mnot\u001b[39;00m \u001b[38;5;28mself\u001b[39m\u001b[38;5;241m.\u001b[39mcolumns\u001b[38;5;241m.\u001b[39mis_unique \u001b[38;5;129;01mor\u001b[39;00m \u001b[38;5;28misinstance\u001b[39m(\u001b[38;5;28mself\u001b[39m\u001b[38;5;241m.\u001b[39mcolumns, MultiIndex):\n",
      "File \u001b[1;32m~\\AppData\\Roaming\\Python\\Python38\\site-packages\\pandas\\core\\frame.py:4870\u001b[0m, in \u001b[0;36mDataFrame._sanitize_column\u001b[1;34m(self, value)\u001b[0m\n\u001b[0;32m   4867\u001b[0m     \u001b[38;5;28;01mreturn\u001b[39;00m _reindex_for_setitem(Series(value), \u001b[38;5;28mself\u001b[39m\u001b[38;5;241m.\u001b[39mindex)\n\u001b[0;32m   4869\u001b[0m \u001b[38;5;28;01mif\u001b[39;00m is_list_like(value):\n\u001b[1;32m-> 4870\u001b[0m     \u001b[43mcom\u001b[49m\u001b[38;5;241;43m.\u001b[39;49m\u001b[43mrequire_length_match\u001b[49m\u001b[43m(\u001b[49m\u001b[43mvalue\u001b[49m\u001b[43m,\u001b[49m\u001b[43m \u001b[49m\u001b[38;5;28;43mself\u001b[39;49m\u001b[38;5;241;43m.\u001b[39;49m\u001b[43mindex\u001b[49m\u001b[43m)\u001b[49m\n\u001b[0;32m   4871\u001b[0m \u001b[38;5;28;01mreturn\u001b[39;00m sanitize_array(value, \u001b[38;5;28mself\u001b[39m\u001b[38;5;241m.\u001b[39mindex, copy\u001b[38;5;241m=\u001b[39m\u001b[38;5;28;01mTrue\u001b[39;00m, allow_2d\u001b[38;5;241m=\u001b[39m\u001b[38;5;28;01mTrue\u001b[39;00m)\n",
      "File \u001b[1;32m~\\AppData\\Roaming\\Python\\Python38\\site-packages\\pandas\\core\\common.py:576\u001b[0m, in \u001b[0;36mrequire_length_match\u001b[1;34m(data, index)\u001b[0m\n\u001b[0;32m    572\u001b[0m \u001b[38;5;250m\u001b[39m\u001b[38;5;124;03m\"\"\"\u001b[39;00m\n\u001b[0;32m    573\u001b[0m \u001b[38;5;124;03mCheck the length of data matches the length of the index.\u001b[39;00m\n\u001b[0;32m    574\u001b[0m \u001b[38;5;124;03m\"\"\"\u001b[39;00m\n\u001b[0;32m    575\u001b[0m \u001b[38;5;28;01mif\u001b[39;00m \u001b[38;5;28mlen\u001b[39m(data) \u001b[38;5;241m!=\u001b[39m \u001b[38;5;28mlen\u001b[39m(index):\n\u001b[1;32m--> 576\u001b[0m     \u001b[38;5;28;01mraise\u001b[39;00m \u001b[38;5;167;01mValueError\u001b[39;00m(\n\u001b[0;32m    577\u001b[0m         \u001b[38;5;124m\"\u001b[39m\u001b[38;5;124mLength of values \u001b[39m\u001b[38;5;124m\"\u001b[39m\n\u001b[0;32m    578\u001b[0m         \u001b[38;5;124mf\u001b[39m\u001b[38;5;124m\"\u001b[39m\u001b[38;5;124m(\u001b[39m\u001b[38;5;132;01m{\u001b[39;00m\u001b[38;5;28mlen\u001b[39m(data)\u001b[38;5;132;01m}\u001b[39;00m\u001b[38;5;124m) \u001b[39m\u001b[38;5;124m\"\u001b[39m\n\u001b[0;32m    579\u001b[0m         \u001b[38;5;124m\"\u001b[39m\u001b[38;5;124mdoes not match length of index \u001b[39m\u001b[38;5;124m\"\u001b[39m\n\u001b[0;32m    580\u001b[0m         \u001b[38;5;124mf\u001b[39m\u001b[38;5;124m\"\u001b[39m\u001b[38;5;124m(\u001b[39m\u001b[38;5;132;01m{\u001b[39;00m\u001b[38;5;28mlen\u001b[39m(index)\u001b[38;5;132;01m}\u001b[39;00m\u001b[38;5;124m)\u001b[39m\u001b[38;5;124m\"\u001b[39m\n\u001b[0;32m    581\u001b[0m     )\n",
      "\u001b[1;31mValueError\u001b[0m: Length of values (245) does not match length of index (520)"
     ]
    }
   ],
   "source": [
    "# Initialize an empty list to store the new column values\n",
    "new_column_values = []\n",
    "\n",
    "# Iterate over the indices\n",
    "for i, index in enumerate(indices):\n",
    "    print(\"Current index:\", index)  # Debugging print\n",
    "    # Get the end index for the current range\n",
    "    end_idx = indices[i + 1] if i < len(indices) - 1 else len(df)\n",
    "    print(\"End index:\", end_idx)  # Debugging print\n",
    "    \n",
    "    # Extract the value from the \"Departure\" column for the current range\n",
    "    value = df.loc[index, \"PredictedArrival\"]\n",
    "    print(\"Value:\", value)  # Debugging print\n",
    "    \n",
    "    # Append the value to the new_column_values list for each row in the current range\n",
    "    rows_count = end_idx - index\n",
    "    print(\"Rows count:\", rows_count)  # Debugging print\n",
    "    new_column_values.extend([value] * rows_count)\n",
    "\n",
    "# Add the new column to the DataFrame\n",
    "df['Date'] = new_column_values\n",
    "\n",
    "# Display the updated DataFrame\n",
    "print(df)\n"
   ]
  },
  {
   "cell_type": "code",
   "execution_count": null,
   "metadata": {},
   "outputs": [],
   "source": [
    "# Split the \"Status\" column into two columns using space separator\n",
    "df[['Status', 'TimeOfLanding']] = df['Status'].str.split(' ', n=1, expand=True)\n",
    "df.drop(columns=['Status'], inplace=True)\n",
    "\n",
    "# Remove rows with NaN values\n",
    "df = df.dropna()\n",
    "df.reset_index(drop=True, inplace=True)\n",
    "# Display the updated DataFrame\n",
    "print(df)\n"
   ]
  },
  {
   "cell_type": "code",
   "execution_count": null,
   "metadata": {},
   "outputs": [],
   "source": [
    "df.to_csv('dfoutput.csv', index=False, encoding='utf-8', header=False)"
   ]
  },
  {
   "cell_type": "code",
   "execution_count": null,
   "metadata": {},
   "outputs": [],
   "source": [
    "column_types = df.dtypes\n",
    "\n",
    "# Print the data types of each column\n",
    "print(column_types)"
   ]
  }
 ],
 "metadata": {
  "kernelspec": {
   "display_name": "Python 3",
   "language": "python",
   "name": "python3"
  },
  "language_info": {
   "codemirror_mode": {
    "name": "ipython",
    "version": 3
   },
   "file_extension": ".py",
   "mimetype": "text/x-python",
   "name": "python",
   "nbconvert_exporter": "python",
   "pygments_lexer": "ipython3",
   "version": "3.8.0"
  }
 },
 "nbformat": 4,
 "nbformat_minor": 2
}
