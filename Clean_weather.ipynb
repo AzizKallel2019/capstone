{
 "cells": [
  {
   "cell_type": "code",
   "execution_count": 6,
   "metadata": {},
   "outputs": [],
   "source": [
    "import pyspark\n",
    "import pandas as pd\n",
    "from datetime import datetime\n",
    "from pyspark.sql import SparkSession\n",
    "from pyspark.sql.window import Window\n",
    "from pyspark.sql.types import StructType, StructField, StringType, IntegerType\n",
    "from pyspark.sql.functions import split, regexp_extract, to_date,when, col, lower\n",
    "\n",
    "from datetime import datetime\n",
    "import re"
   ]
  },
  {
   "cell_type": "code",
   "execution_count": 7,
   "metadata": {},
   "outputs": [
    {
     "data": {
      "text/html": [
       "\n",
       "            <div>\n",
       "                <p><b>SparkSession - in-memory</b></p>\n",
       "                \n",
       "        <div>\n",
       "            <p><b>SparkContext</b></p>\n",
       "\n",
       "            <p><a href=\"http://Wolf:4042\">Spark UI</a></p>\n",
       "\n",
       "            <dl>\n",
       "              <dt>Version</dt>\n",
       "                <dd><code>v3.5.1</code></dd>\n",
       "              <dt>Master</dt>\n",
       "                <dd><code>local[*]</code></dd>\n",
       "              <dt>AppName</dt>\n",
       "                <dd><code>bovo</code></dd>\n",
       "            </dl>\n",
       "        </div>\n",
       "        \n",
       "            </div>\n",
       "        "
      ],
      "text/plain": [
       "<pyspark.sql.session.SparkSession at 0x22d0fe72d60>"
      ]
     },
     "execution_count": 7,
     "metadata": {},
     "output_type": "execute_result"
    }
   ],
   "source": [
    "spark = SparkSession.builder.appName('bovo').getOrCreate()\n",
    "spark"
   ]
  },
  {
   "cell_type": "code",
   "execution_count": null,
   "metadata": {},
   "outputs": [],
   "source": [
    "\n",
    "schema = StructType([\n",
    "    StructField(\"VisibilityInSM\", StringType(), False),\n",
    "    StructField(\"WindDirectionInDegrees\", StringType(), False),\n",
    "    StructField(\"TimeInUTC\", StringType(), False),\n",
    "    StructField(\"Airport_name\", StringType(), False),\n",
    "    StructField(\"Aircraft_ID\", StringType(), False),\n",
    "    StructField(\"NUll\", StringType(), False),\n",
    "    StructField(\"TimeOfArrival\", StringType(), False),\n",
    "    StructField(\"Airport\", StringType(), False),\n",
    "    StructField(\"Date\", StringType(), False)\n",
    "    \n",
    "    \n",
    "])"
   ]
  },
  {
   "cell_type": "code",
   "execution_count": 8,
   "metadata": {},
   "outputs": [],
   "source": [
    "df_pyspark=spark.read.option('header','true').csv(r'C:\\Users\\httyd\\Desktop\\capstone\\airports\\Data\\2024-03-18\\Weather*.csv')"
   ]
  },
  {
   "cell_type": "code",
   "execution_count": 9,
   "metadata": {},
   "outputs": [
    {
     "name": "stdout",
     "output_type": "stream",
     "text": [
      "+----------+--------------+---------+--------------------+----+---------+----------+----------+-----------+---------+\n",
      "|Visibility|Wind direction|     Time|        Airport_name| Day|Dew point|  Pressure|Wind speed|Temperature|Wind gust|\n",
      "+----------+--------------+---------+--------------------+----+---------+----------+----------+-----------+---------+\n",
      "|     10 SM|          320°|13:55 UTC|Montevideo Chippe...|18th|    -12°C|30.31 inHg|      11kt|       -7°C|     15kt|\n",
      "|     10 SM|          330°|13:15 UTC|Montevideo Chippe...|18th|    -12°C|30.31 inHg|      12kt|       -8°C|     NULL|\n",
      "|     10 SM|          330°|12:55 UTC|Montevideo Chippe...|18th|    -12°C|30.31 inHg|      13kt|       -8°C|     NULL|\n",
      "|     10 SM|          320°|12:15 UTC|Montevideo Chippe...|18th|    -12°C| 30.3 inHg|      11kt|       -8°C|     16kt|\n",
      "|     10 SM|          320°|11:55 UTC|Montevideo Chippe...|18th|    -12°C| 30.3 inHg|      12kt|       -8°C|     NULL|\n",
      "|     10 SM|          330°|11:15 UTC|Montevideo Chippe...|18th|    -13°C| 30.3 inHg|      10kt|       -7°C|     NULL|\n",
      "|     10 SM|          320°|10:55 UTC|Montevideo Chippe...|18th|    -12°C|30.29 inHg|      10kt|       -8°C|     NULL|\n",
      "|     10 SM|          330°|10:15 UTC|Montevideo Chippe...|18th|    -13°C|30.28 inHg|      12kt|       -7°C|     17kt|\n",
      "|     10 SM|          330°|09:55 UTC|Montevideo Chippe...|18th|    -13°C|30.28 inHg|      10kt|       -7°C|     NULL|\n",
      "|     10 SM|          330°|09:15 UTC|Montevideo Chippe...|18th|    -13°C|30.26 inHg|      12kt|       -7°C|     NULL|\n",
      "|     10 SM|          330°|08:55 UTC|Montevideo Chippe...|18th|    -13°C|30.27 inHg|      12kt|       -7°C|     16kt|\n",
      "|     10 SM|          330°|08:15 UTC|Montevideo Chippe...|18th|    -13°C|30.27 inHg|      13kt|       -7°C|     17kt|\n",
      "|     10 SM|          330°|07:55 UTC|Montevideo Chippe...|18th|    -13°C|30.27 inHg|      12kt|       -7°C|     NULL|\n",
      "|     10 SM|          330°|07:15 UTC|Montevideo Chippe...|18th|    -13°C|30.27 inHg|      15kt|       -7°C|     18kt|\n",
      "|     10 SM|          330°|06:55 UTC|Montevideo Chippe...|18th|    -13°C|30.27 inHg|      13kt|       -7°C|     17kt|\n",
      "|     10 SM|          330°|06:15 UTC|Montevideo Chippe...|18th|    -13°C|30.27 inHg|       9kt|       -7°C|     17kt|\n",
      "|     10 SM|          330°|05:55 UTC|Montevideo Chippe...|18th|    -13°C|30.27 inHg|      11kt|       -7°C|     NULL|\n",
      "|     10 SM|          330°|05:15 UTC|Montevideo Chippe...|18th|    -14°C|30.27 inHg|      13kt|       -7°C|     20kt|\n",
      "|     10 SM|          350°|04:55 UTC|Montevideo Chippe...|18th|    -14°C|30.27 inHg|      18kt|       -7°C|     23kt|\n",
      "|     10 SM|          350°|04:15 UTC|Montevideo Chippe...|18th|    -14°C|30.27 inHg|      15kt|       -7°C|     20kt|\n",
      "|     10 SM|          360°|03:55 UTC|Montevideo Chippe...|18th|    -14°C|30.26 inHg|      16kt|       -7°C|     22kt|\n",
      "|     10 SM|          350°|03:15 UTC|Montevideo Chippe...|18th|    -13°C|30.26 inHg|      15kt|       -7°C|     20kt|\n",
      "|     10 SM|          350°|02:55 UTC|Montevideo Chippe...|18th|    -14°C|30.26 inHg|      14kt|       -7°C|     NULL|\n",
      "|     10 SM|          350°|02:15 UTC|Montevideo Chippe...|18th|    -13°C|30.25 inHg|      21kt|       -6°C|     27kt|\n",
      "|     10 SM|          360°|01:55 UTC|Montevideo Chippe...|18th|    -12°C|30.24 inHg|      21kt|       -6°C|     25kt|\n",
      "|     10 SM|          350°|01:15 UTC|Montevideo Chippe...|18th|    -12°C|30.24 inHg|      17kt|       -5°C|     24kt|\n",
      "|     10 SM|          360°|00:55 UTC|Montevideo Chippe...|18th|    -13°C|30.23 inHg|      19kt|       -5°C|     26kt|\n",
      "|     10 SM|          350°|00:15 UTC|Montevideo Chippe...|18th|    -13°C|30.22 inHg|      24kt|       -5°C|     29kt|\n",
      "|     10 SM|          350°|23:55 UTC|Montevideo Chippe...|17th|    -12°C|30.22 inHg|      18kt|       -4°C|     27kt|\n",
      "|     10 SM|          340°|23:15 UTC|Montevideo Chippe...|17th|    -12°C|30.21 inHg|      19kt|       -4°C|     32kt|\n",
      "|     10 SM|          340°|22:55 UTC|Montevideo Chippe...|17th|    -13°C| 30.2 inHg|      23kt|       -3°C|     31kt|\n",
      "|     10 SM|          350°|22:15 UTC|Montevideo Chippe...|17th|    -13°C|30.18 inHg|      22kt|       -3°C|     34kt|\n",
      "|     10 SM|          340°|21:55 UTC|Montevideo Chippe...|17th|    -13°C|30.18 inHg|      26kt|       -3°C|     32kt|\n",
      "|     10 SM|          340°|21:15 UTC|Montevideo Chippe...|17th|    -13°C|30.16 inHg|      22kt|       -2°C|     31kt|\n",
      "|     10 SM|          340°|20:55 UTC|Montevideo Chippe...|17th|    -13°C|30.16 inHg|      22kt|       -3°C|     30kt|\n",
      "|     10 SM|          350°|20:15 UTC|Montevideo Chippe...|17th|    -13°C|30.17 inHg|      22kt|       -3°C|     29kt|\n",
      "|     10 SM|          340°|19:55 UTC|Montevideo Chippe...|17th|    -13°C|30.17 inHg|      22kt|       -3°C|     32kt|\n",
      "|     10 SM|          330°|19:15 UTC|Montevideo Chippe...|17th|    -13°C|30.19 inHg|      20kt|       -4°C|     29kt|\n",
      "|     10 SM|          330°|18:55 UTC|Montevideo Chippe...|17th|    -13°C|30.18 inHg|      22kt|       -4°C|     30kt|\n",
      "|     10 SM|          350°|18:15 UTC|Montevideo Chippe...|17th|    -13°C|30.18 inHg|      22kt|       -4°C|     30kt|\n",
      "|     10 SM|          340°|17:55 UTC|Montevideo Chippe...|17th|    -13°C|30.18 inHg|      22kt|       -4°C|     31kt|\n",
      "|     10 SM|          340°|17:15 UTC|Montevideo Chippe...|17th|    -13°C|30.19 inHg|      21kt|       -5°C|     32kt|\n",
      "|     10 SM|          350°|16:55 UTC|Montevideo Chippe...|17th|    -12°C|30.19 inHg|      21kt|       -6°C|     30kt|\n",
      "|      3 SM|          330°|16:15 UTC|Montevideo Chippe...|17th|    -11°C|30.19 inHg|      23kt|       -6°C|     32kt|\n",
      "|      7 SM|          330°|15:55 UTC|Montevideo Chippe...|17th|    -12°C|30.19 inHg|      23kt|       -6°C|     29kt|\n",
      "|     10 SM|          330°|15:15 UTC|Montevideo Chippe...|17th|    -12°C|30.17 inHg|      22kt|       -6°C|     30kt|\n",
      "|     10 SM|          340°|14:55 UTC|Montevideo Chippe...|17th|    -12°C|30.17 inHg|      20kt|       -7°C|     29kt|\n",
      "|      7 SM|          350°|14:15 UTC|Montevideo Chippe...|17th|    -11°C|30.17 inHg|      20kt|       -7°C|     27kt|\n",
      "|     10 SM|          340°|13:55 UTC|Montevideo Chippe...|17th|    -11°C|30.16 inHg|      23kt|       -7°C|     29kt|\n",
      "|     10 SM|          340°|13:15 UTC|Montevideo Chippe...|17th|    -12°C|30.15 inHg|      18kt|       -7°C|     31kt|\n",
      "|     10 SM|          330°|12:55 UTC|Montevideo Chippe...|17th|    -11°C|30.15 inHg|      20kt|       -7°C|     27kt|\n",
      "|     10 SM|          340°|12:15 UTC|Montevideo Chippe...|17th|    -11°C|30.13 inHg|      14kt|       -7°C|     21kt|\n",
      "|     10 SM|          340°|11:55 UTC|Montevideo Chippe...|17th|    -11°C|30.13 inHg|      14kt|       -7°C|     22kt|\n",
      "|     10 SM|          340°|11:15 UTC|Montevideo Chippe...|17th|    -12°C|30.12 inHg|      21kt|       -6°C|     28kt|\n",
      "|     10 SM|          340°|10:55 UTC|Montevideo Chippe...|17th|    -11°C|30.11 inHg|      21kt|       -6°C|     28kt|\n",
      "|     10 SM|          330°|10:15 UTC|Montevideo Chippe...|17th|    -10°C| 30.1 inHg|      21kt|       -6°C|     25kt|\n",
      "|     10 SM|          330°|09:55 UTC|Montevideo Chippe...|17th|    -11°C|30.09 inHg|      17kt|       -6°C|     25kt|\n",
      "|     10 SM|          340°|09:15 UTC|Montevideo Chippe...|17th|    -10°C|30.08 inHg|      21kt|       -5°C|     25kt|\n",
      "|     10 SM|          330°|08:55 UTC|Montevideo Chippe...|17th|    -11°C|30.08 inHg|      18kt|       -5°C|     24kt|\n",
      "|     10 SM|          350°|08:15 UTC|Montevideo Chippe...|17th|    -11°C|30.07 inHg|      22kt|       -5°C|     26kt|\n",
      "|     10 SM|          340°|07:55 UTC|Montevideo Chippe...|17th|    -11°C|30.07 inHg|      19kt|       -5°C|     26kt|\n",
      "|     10 SM|          340°|07:15 UTC|Montevideo Chippe...|17th|     -9°C|30.05 inHg|      20kt|       -4°C|     23kt|\n",
      "|     10 SM|          340°|06:55 UTC|Montevideo Chippe...|17th|     -9°C|30.05 inHg|      12kt|       -4°C|     NULL|\n",
      "|     10 SM|          360°|06:15 UTC|Montevideo Chippe...|17th|     -9°C|      NULL|      20kt|       -4°C|     29kt|\n",
      "|     10 SM|          350°|05:55 UTC|Montevideo Chippe...|17th|     -8°C|30.04 inHg|      21kt|       -3°C|     30kt|\n",
      "|     10 SM|          350°|05:15 UTC|Montevideo Chippe...|17th|     -7°C|30.02 inHg|      21kt|       -2°C|     25kt|\n",
      "|     10 SM|          350°|04:55 UTC|Montevideo Chippe...|17th|     -6°C|30.01 inHg|      22kt|       -1°C|     NULL|\n",
      "|     10 SM|          320°|04:15 UTC|Montevideo Chippe...|17th|     -7°C|   30 inHg|      13kt|       -1°C|     23kt|\n",
      "|     10 SM|          320°|03:55 UTC|Montevideo Chippe...|17th|     -7°C|   30 inHg|       9kt|       -1°C|     17kt|\n",
      "|     10 SM|          340°|03:15 UTC|Montevideo Chippe...|17th|     -7°C|29.99 inHg|      14kt|        0°C|     19kt|\n",
      "|     10 SM|          330°|02:55 UTC|Montevideo Chippe...|17th|     -6°C|29.99 inHg|      10kt|        0°C|     NULL|\n",
      "|     10 SM|          330°|02:15 UTC|Montevideo Chippe...|17th|     -6°C|29.99 inHg|      10kt|        1°C|     14kt|\n",
      "|     10 SM|          330°|01:55 UTC|Montevideo Chippe...|17th|     -6°C|29.99 inHg|      13kt|        1°C|     NULL|\n",
      "|     10 SM|          350°|01:15 UTC|Montevideo Chippe...|17th|     -6°C|29.99 inHg|      16kt|        2°C|     25kt|\n",
      "|     10 SM|          340°|00:55 UTC|Montevideo Chippe...|17th|     -6°C|29.98 inHg|      21kt|        2°C|     30kt|\n",
      "|     10 SM|          340°|00:15 UTC|Montevideo Chippe...|17th|     -6°C|29.96 inHg|      21kt|        3°C|     29kt|\n",
      "|     10 SM|          350°|23:55 UTC|Montevideo Chippe...|16th|     -7°C|29.95 inHg|      23kt|        3°C|     28kt|\n",
      "|     10 SM|          320°|23:15 UTC|Montevideo Chippe...|16th|     -8°C|29.94 inHg|      17kt|        4°C|     24kt|\n",
      "|     10 SM|          350°|22:55 UTC|Montevideo Chippe...|16th|     -8°C|29.94 inHg|      21kt|        4°C|     25kt|\n",
      "|     10 SM|          330°|22:15 UTC|Montevideo Chippe...|16th|     -9°C|29.93 inHg|      22kt|        6°C|     28kt|\n",
      "|     10 SM|          350°|21:55 UTC|Montevideo Chippe...|16th|     -8°C|29.92 inHg|      23kt|        6°C|     29kt|\n",
      "|     10 SM|          320°|21:15 UTC|Montevideo Chippe...|16th|     -8°C|29.93 inHg|      23kt|        7°C|     30kt|\n",
      "|     10 SM|          330°|20:55 UTC|Montevideo Chippe...|16th|     -8°C|29.92 inHg|      25kt|        6°C|     33kt|\n",
      "|     10 SM|          320°|20:15 UTC|Montevideo Chippe...|16th|     -8°C|29.92 inHg|      22kt|        7°C|     32kt|\n",
      "|     10 SM|          330°|19:55 UTC|Montevideo Chippe...|16th|     -8°C|29.92 inHg|      18kt|        6°C|     32kt|\n",
      "|     10 SM|          330°|19:15 UTC|Montevideo Chippe...|16th|     -7°C|29.92 inHg|      22kt|        7°C|     31kt|\n",
      "|     10 SM|          330°|18:55 UTC|Montevideo Chippe...|16th|     -8°C|29.92 inHg|      26kt|        7°C|     31kt|\n",
      "|     10 SM|          330°|18:15 UTC|Montevideo Chippe...|16th|     -6°C|29.92 inHg|      23kt|        6°C|     31kt|\n",
      "|     10 SM|          320°|17:55 UTC|Montevideo Chippe...|16th|     -6°C|29.92 inHg|      21kt|        7°C|     31kt|\n",
      "|     10 SM|          320°|17:15 UTC|Montevideo Chippe...|16th|     -5°C|29.92 inHg|      17kt|        6°C|     34kt|\n",
      "|     10 SM|          330°|16:55 UTC|Montevideo Chippe...|16th|     -4°C|29.92 inHg|      22kt|        6°C|     33kt|\n",
      "|     10 SM|          330°|16:15 UTC|Montevideo Chippe...|16th|     -4°C|29.91 inHg|      23kt|        5°C|     32kt|\n",
      "|     10 SM|          330°|15:55 UTC|Montevideo Chippe...|16th|     -4°C| 29.9 inHg|      22kt|        5°C|     31kt|\n",
      "|     10 SM|          320°|15:15 UTC|Montevideo Chippe...|16th|     -1°C| 29.9 inHg|      17kt|        4°C|     22kt|\n",
      "|     10 SM|          310°|14:55 UTC|Montevideo Chippe...|16th|     -1°C| 29.9 inHg|      14kt|        4°C|     23kt|\n",
      "|     10 SM|          310°|14:15 UTC|Montevideo Chippe...|16th|     -1°C|29.89 inHg|      16kt|        4°C|     20kt|\n",
      "|     10 SM|          320°|13:55 UTC|Montevideo Chippe...|16th|     -1°C|29.89 inHg|      14kt|        4°C|     19kt|\n",
      "|     10 SM|          330°|13:15 UTC|Montevideo Chippe...|16th|     -1°C|29.87 inHg|      12kt|        3°C|     20kt|\n",
      "|     10 SM|          320°|12:55 UTC|Montevideo Chippe...|16th|     -1°C|29.87 inHg|      11kt|        3°C|     NULL|\n",
      "|     10 SM|          320°|12:15 UTC|Montevideo Chippe...|16th|     -1°C|29.85 inHg|       9kt|        2°C|     NULL|\n",
      "+----------+--------------+---------+--------------------+----+---------+----------+----------+-----------+---------+\n",
      "only showing top 100 rows\n",
      "\n"
     ]
    }
   ],
   "source": [
    "df_pyspark.show(100)"
   ]
  },
  {
   "cell_type": "code",
   "execution_count": 10,
   "metadata": {},
   "outputs": [
    {
     "name": "stdout",
     "output_type": "stream",
     "text": [
      "Number of rows in DataFrame: 47884\n"
     ]
    }
   ],
   "source": [
    "df_pyspark = df_pyspark.dropDuplicates()\n",
    "row_count = df_pyspark.count()\n",
    "print(\"Number of rows in DataFrame:\", row_count)"
   ]
  }
 ],
 "metadata": {
  "kernelspec": {
   "display_name": "Python 3",
   "language": "python",
   "name": "python3"
  },
  "language_info": {
   "codemirror_mode": {
    "name": "ipython",
    "version": 3
   },
   "file_extension": ".py",
   "mimetype": "text/x-python",
   "name": "python",
   "nbconvert_exporter": "python",
   "pygments_lexer": "ipython3",
   "version": "3.8.0"
  }
 },
 "nbformat": 4,
 "nbformat_minor": 2
}
